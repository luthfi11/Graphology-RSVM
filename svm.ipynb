{
 "nbformat": 4,
 "nbformat_minor": 2,
 "metadata": {
  "language_info": {
   "name": "python",
   "codemirror_mode": {
    "name": "ipython",
    "version": 3
   },
   "version": "3.7.2-final"
  },
  "orig_nbformat": 2,
  "file_extension": ".py",
  "mimetype": "text/x-python",
  "name": "python",
  "npconvert_exporter": "python",
  "pygments_lexer": "ipython3",
  "version": 3,
  "kernelspec": {
   "name": "python37232bitf762593a194f4d27b888574ce514290d",
   "display_name": "Python 3.7.2 32-bit"
  }
 },
 "cells": [
  {
   "cell_type": "code",
   "execution_count": 1,
   "metadata": {},
   "outputs": [
    {
     "output_type": "execute_result",
     "data": {
      "text/plain": "             Nama File  Rerata  Persentase  Zona Atas  Zona Tengah  \\\n0  c03-021a-s02-03.png  117.07       45.91         40           53   \n1  c03-084d-s01-04.png   74.98       29.40         29            0   \n2  c03-096c-s02-02.png  118.40       46.43         29           55   \n3  c03-096d-s01-01.png   86.18       33.80         23           36   \n4   c06-011-s00-05.png   55.65       21.82         28           39   \n\n   Zona Bawah Tekanan Tulisan Dominasi Zona  \n0          48          Ringan        Tengah  \n1          86            Kuat         Bawah  \n2          70          Ringan         Bawah  \n3          33          Sedang        Tengah  \n4          34            Kuat        Tengah  ",
      "text/html": "<div>\n<style scoped>\n    .dataframe tbody tr th:only-of-type {\n        vertical-align: middle;\n    }\n\n    .dataframe tbody tr th {\n        vertical-align: top;\n    }\n\n    .dataframe thead th {\n        text-align: right;\n    }\n</style>\n<table border=\"1\" class=\"dataframe\">\n  <thead>\n    <tr style=\"text-align: right;\">\n      <th></th>\n      <th>Nama File</th>\n      <th>Rerata</th>\n      <th>Persentase</th>\n      <th>Zona Atas</th>\n      <th>Zona Tengah</th>\n      <th>Zona Bawah</th>\n      <th>Tekanan Tulisan</th>\n      <th>Dominasi Zona</th>\n    </tr>\n  </thead>\n  <tbody>\n    <tr>\n      <th>0</th>\n      <td>c03-021a-s02-03.png</td>\n      <td>117.07</td>\n      <td>45.91</td>\n      <td>40</td>\n      <td>53</td>\n      <td>48</td>\n      <td>Ringan</td>\n      <td>Tengah</td>\n    </tr>\n    <tr>\n      <th>1</th>\n      <td>c03-084d-s01-04.png</td>\n      <td>74.98</td>\n      <td>29.40</td>\n      <td>29</td>\n      <td>0</td>\n      <td>86</td>\n      <td>Kuat</td>\n      <td>Bawah</td>\n    </tr>\n    <tr>\n      <th>2</th>\n      <td>c03-096c-s02-02.png</td>\n      <td>118.40</td>\n      <td>46.43</td>\n      <td>29</td>\n      <td>55</td>\n      <td>70</td>\n      <td>Ringan</td>\n      <td>Bawah</td>\n    </tr>\n    <tr>\n      <th>3</th>\n      <td>c03-096d-s01-01.png</td>\n      <td>86.18</td>\n      <td>33.80</td>\n      <td>23</td>\n      <td>36</td>\n      <td>33</td>\n      <td>Sedang</td>\n      <td>Tengah</td>\n    </tr>\n    <tr>\n      <th>4</th>\n      <td>c06-011-s00-05.png</td>\n      <td>55.65</td>\n      <td>21.82</td>\n      <td>28</td>\n      <td>39</td>\n      <td>34</td>\n      <td>Kuat</td>\n      <td>Tengah</td>\n    </tr>\n  </tbody>\n</table>\n</div>"
     },
     "metadata": {},
     "execution_count": 1
    }
   ],
   "source": [
    "import pandas as pd\n",
    "\n",
    "df = pd.read_csv('sample_data.csv')\n",
    "\n",
    "df.head()"
   ]
  },
  {
   "cell_type": "code",
   "execution_count": 2,
   "metadata": {},
   "outputs": [
    {
     "output_type": "stream",
     "name": "stdout",
     "text": "<class 'pandas.core.frame.DataFrame'>\nRangeIndex: 20 entries, 0 to 19\nData columns (total 8 columns):\n #   Column           Non-Null Count  Dtype  \n---  ------           --------------  -----  \n 0   Nama File        20 non-null     object \n 1   Rerata           20 non-null     float64\n 2   Persentase       20 non-null     float64\n 3   Zona Atas        20 non-null     int64  \n 4   Zona Tengah      20 non-null     int64  \n 5   Zona Bawah       20 non-null     int64  \n 6   Tekanan Tulisan  20 non-null     object \n 7   Dominasi Zona    20 non-null     object \ndtypes: float64(2), int64(3), object(3)\nmemory usage: 1.1+ KB\n"
    }
   ],
   "source": [
    "df.info()"
   ]
  },
  {
   "cell_type": "code",
   "execution_count": 6,
   "metadata": {},
   "outputs": [],
   "source": [
    "# memisahkan atribut pada dataset dan menyimpannya pada sebuah variabel\n",
    "X = df[df.columns[1:6]]\n",
    " \n",
    "# memisahkan label pada dataset dan menyimpannya pada sebuah variabel\n",
    "y = df['Tekanan Tulisan']"
   ]
  },
  {
   "cell_type": "code",
   "execution_count": 7,
   "metadata": {},
   "outputs": [
    {
     "output_type": "stream",
     "name": "stdout",
     "text": "Rerata  Persentase  Zona Atas  Zona Tengah  Zona Bawah\n0   117.07       45.91         40           53          48\n1    74.98       29.40         29            0          86\n2   118.40       46.43         29           55          70\n3    86.18       33.80         23           36          33\n4    55.65       21.82         28           39          34\n5    68.64       26.92         32           60          16\n6    78.07       30.62         35           36          27\n7    89.00       34.90         45           31          31\n8   104.83       41.11         41           34          24\n9   105.68       41.44         33           36          71\n10  108.06       42.38         53           43          52\n11   90.87       35.64         33           33          20\n12   83.44       32.72         19           32          58\n13   77.43       30.36         39           37          17\n14  119.61       46.91         64           44          58\n15  122.32       47.97         76           52          71\n16   25.59       10.04         19           20          47\n17   69.07       27.09         25           32          24\n18   91.13       35.74         30            0         179\n19   26.94       10.56         45           16          33\n"
    }
   ],
   "source": [
    "print(X)"
   ]
  },
  {
   "cell_type": "code",
   "execution_count": 9,
   "metadata": {},
   "outputs": [],
   "source": [
    "from sklearn.preprocessing import StandardScaler\n",
    " \n",
    "# standarisasi nilai-nilai dari dataset\n",
    "scaler = StandardScaler()\n",
    "scaler.fit(X)\n",
    "X = scaler.transform(X)"
   ]
  },
  {
   "cell_type": "code",
   "execution_count": 10,
   "metadata": {},
   "outputs": [],
   "source": [
    "from sklearn.model_selection import train_test_split\n",
    " \n",
    " \n",
    "X_train, X_test, y_train, y_test = train_test_split(\n",
    "    X, y, test_size=0.2, random_state=42)"
   ]
  },
  {
   "cell_type": "code",
   "execution_count": 11,
   "metadata": {},
   "outputs": [
    {
     "output_type": "execute_result",
     "data": {
      "text/plain": "SVC(C=1.0, break_ties=False, cache_size=200, class_weight=None, coef0=0.0,\n    decision_function_shape='ovr', degree=3, gamma='scale', kernel='rbf',\n    max_iter=-1, probability=False, random_state=None, shrinking=True,\n    tol=0.001, verbose=False)"
     },
     "metadata": {},
     "execution_count": 11
    }
   ],
   "source": [
    "from sklearn.svm import SVC\n",
    " \n",
    " \n",
    "clf = SVC()\n",
    "clf.fit(X_train, y_train)"
   ]
  },
  {
   "cell_type": "code",
   "execution_count": 12,
   "metadata": {},
   "outputs": [
    {
     "output_type": "execute_result",
     "data": {
      "text/plain": "0.5"
     },
     "metadata": {},
     "execution_count": 12
    }
   ],
   "source": [
    "clf.score(X_test, y_test)"
   ]
  },
  {
   "cell_type": "code",
   "execution_count": null,
   "metadata": {},
   "outputs": [],
   "source": []
  }
 ]
}